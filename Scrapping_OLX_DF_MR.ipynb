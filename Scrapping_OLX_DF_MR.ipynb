{
  "nbformat": 4,
  "nbformat_minor": 0,
  "metadata": {
    "colab": {
      "name": "Scrapping_OLX_DF_40pages.ipynb",
      "provenance": [],
      "collapsed_sections": []
    },
    "kernelspec": {
      "name": "python3",
      "display_name": "Python 3"
    },
    "language_info": {
      "name": "python"
    }
  },
  "cells": [
    {
      "cell_type": "code",
      "metadata": {
        "id": "okglsgf8dykZ"
      },
      "source": [
        "from bs4 import BeautifulSoup\n",
        "\n",
        "import sqlite3\n",
        "from sys import argv\n",
        "import pandas as pd\n",
        "import seaborn as sns\n",
        "import matplotlib.pyplot as plt\n",
        "\n",
        "import re\n",
        "import json\n",
        "import requests"
      ],
      "execution_count": 25,
      "outputs": []
    },
    {
      "cell_type": "code",
      "metadata": {
        "id": "sugcljzAd4hC"
      },
      "source": [
        "URL = \"https://www.olx.pl/nieruchomosci/mieszkania/wynajem/warszawa/\"\n",
        "page = get(URL)\n",
        "bs = BeautifulSoup(page.content, 'html.parser')"
      ],
      "execution_count": 21,
      "outputs": []
    },
    {
      "cell_type": "code",
      "metadata": {
        "colab": {
          "base_uri": "https://localhost:8080/"
        },
        "id": "IHLYK2WCqp3l",
        "outputId": "d663de36-6344-4f84-993e-145d7d2e13b5"
      },
      "source": [
        "def parse_price(price):\n",
        "  return float(price.replace(' ', '').replace('zł', '').replace(',', '.'))\n",
        "dane = {'location':[],'title':[],'price':[],'link':[], 'metraz':[]}\n",
        "df_dane = pd.DataFrame(dane)\n",
        "for number in range(1,41):\n",
        "  page = get(f'{URL}&page={number}')\n",
        "  for offer in bs.find_all('div', class_='offer-wrapper'):\n",
        "    footer = offer.find('td', class_='bottom-cell')\n",
        "    try:\n",
        "      location = footer.find('small', class_='breadcrumb').get_text().strip().split(',')[1]\n",
        "    except:\n",
        "      break\n",
        "    title = offer.find('strong').get_text().strip()\n",
        "    link = offer.find('a')\n",
        "    price = parse_price(offer.find('p', class_='price').get_text().strip())\n",
        "    \n",
        "    url1 = link['href']\n",
        "    html_data = requests.get(url1).text\n",
        "    try:\n",
        "      data = re.search(r'{\"key\":\"m\",\"name\":\"Powierzchnia\",\"value\":\".+ m²\"', html_data).group(0)\n",
        "      data = data +\"}\"\n",
        "      dict = eval(data)\n",
        "      res = [int(i) for i in dict['value'].split() if i.isdigit()]\n",
        "    except:\n",
        "      try:\n",
        "        html_data = requests.get(url1).text\n",
        "        data = re.search(r'{\"key\":\"m\",\"value\":\".+\",\"label\":\"Powierzchnia\",\"localizedValue\":\".+ m²\"', html_data).group(0)\n",
        "        data = data +\"}\"\n",
        "        dict = eval(data)\n",
        "        res = [int(i) for i in dict['value'].split() if i.isdigit()]\n",
        "      except Exception as e:\n",
        "        break\n",
        "    \n",
        "\n",
        "    new_row= {'location':location,'title':title,'price':price,'link':link['href'],'metraz':res}\n",
        "    df_dane = df_dane.append(new_row, ignore_index=True)\n",
        "\n",
        "\n",
        "\n",
        "\n",
        "print(df_dane)"
      ],
      "execution_count": 33,
      "outputs": [
        {
          "output_type": "stream",
          "text": [
            "<div class=\"offer-wrapper\">\n",
            "<table cellpadding=\"0\" cellspacing=\"0\" class=\"fixed breakword ad_idKbRiZ\" data-id=\"682537973\" summary=\"Ogłoszenie\" width=\"100%\">\n",
            "<tbody>\n",
            "<tr>\n",
            "<td class=\"photo-cell\" rowspan=\"2\" width=\"150\">\n",
            "<a class=\"thumb vtop inlblk rel tdnone linkWithHash scale4 detailsLink \" href=\"https://www.otodom.pl/pl/oferta/mieszkanie-obok-ch-promenada-w-nowym-budynku-ID3F2ok.html?\" target=\"_blank\" title=\"\">\n",
            "<img alt=\"Mieszkanie obok CH Promenada w nowym budynku\" class=\"fleft\" src=\"https://ireland.apollo.olxcdn.com:443/v1/files/7rfmpyw2cooj-PL/image;s=644x461\"/>\n",
            "</a>\n",
            "</td>\n",
            "<td class=\"title-cell \" valign=\"top\">\n",
            "<div class=\"space rel\">\n",
            "<h3 class=\"lheight22 margintop5\">\n",
            "<a class=\"marginright5 link linkWithHash detailsLink\" data-cy=\"listing-ad-title\" href=\"https://www.otodom.pl/pl/oferta/mieszkanie-obok-ch-promenada-w-nowym-budynku-ID3F2ok.html?\" target=\"_blank\">\n",
            "<strong>Mieszkanie obok CH Promenada w nowym budynku</strong>\n",
            "</a>\n",
            "</h3>\n",
            "<p class=\"offer-path color-9 lheight16 margintop5\">\n",
            "<small class=\"breadcrumb x-normal\">\n",
            "                                                        Mieszkania » Wynajem\n",
            "                                                    </small>\n",
            "</p>\n",
            "</div>\n",
            "</td>\n",
            "<td class=\"wwnormal tright td-price\" valign=\"top\" width=\"200\">\n",
            "<div class=\"space inlblk rel\">\n",
            "<p class=\"price\">\n",
            "<strong>1 999 zł</strong>\n",
            "</p>\n",
            "</div>\n",
            "</td>\n",
            "</tr>\n",
            "<tr>\n",
            "<td class=\"bottom-cell\" valign=\"bottom\">\n",
            "<div class=\"space rel\">\n",
            "<p class=\"lheight16\">\n",
            "<small class=\"breadcrumb x-normal\">\n",
            "<span><i data-icon=\"location-filled\"></i>Warszawa, Praga-Południe</span>\n",
            "</small>\n",
            "<small class=\"breadcrumb x-normal\">\n",
            "<span><i data-icon=\"clock\"></i>dzisiaj 13:51</span>\n",
            "</small>\n",
            "</p>\n",
            "</div>\n",
            "</td>\n",
            "<td class=\"tright\" valign=\"bottom\" width=\"85\">\n",
            "<div class=\"rel\">\n",
            "<div class=\"rel observelinkinfo inlblk zi3\">\n",
            "<a class=\"{id:682537973} observe-link inlblk lheight16 tdnone tcenter margintop5 vishid \" data-statkey=\"ad.observed.list\" href=\"#\">\n",
            "<span class=\"icon inlblk observe2 observed-682537973\" data-icon=\"star\"></span>\n",
            "<span class=\"link x-small gray2 block lheight14\">\n",
            "<span> </span>\n",
            "</span>\n",
            "</a>\n",
            "<div class=\"suggesttitleright small top abs zi2 br4 hidden\">\n",
            "<p></p>\n",
            "</div>\n",
            "</div>\n",
            "</div>\n",
            "</td>\n",
            "</tr>\n",
            "</tbody>\n",
            "</table>\n",
            "</div>\n",
            "             location                                              title  \\\n",
            "0         Śródmieście                  PILNE! Super Apartament - Centrum   \n",
            "1              Bemowo  Wynajem Mieszkanie 45 mkw 2 pokoje Parking ume...   \n",
            "2             Mokotów  Piękna nowa kawalerka w apartamentowcu Galeria...   \n",
            "3             Mokotów  Nowe 2 pokoje 41m2 Mokotów | mieszkania w abon...   \n",
            "4              Ochota                Mieszkanie dwupokojowe do wynajęcia   \n",
            "...               ...                                                ...   \n",
            "1755             Wola  2 pok.Wola, Jana Kazimierza, Wysoki Standard, ...   \n",
            "1756           Ochota  Mieszkanie po remoncie, wyposażone, Funkcjonal...   \n",
            "1757             Wola          Klimatyzowana kawalerka na Woli od zaraz!   \n",
            "1758        Białołęka  Mieszkanie ok. 47m2, 2 pokoje, TARCHOMIN, od z...   \n",
            "1759   Praga-Południe       Mieszkanie obok CH Promenada w nowym budynku   \n",
            "\n",
            "       price                                               link metraz  \n",
            "0     2550.0  https://www.olx.pl/d/oferta/pilne-super-aparta...   [68]  \n",
            "1     1550.0  https://www.olx.pl/d/oferta/wynajem-mieszkanie...   [37]  \n",
            "2     1490.0  https://www.olx.pl/d/oferta/piekna-nowa-kawale...   [18]  \n",
            "3     1880.0  https://www.olx.pl/d/oferta/nowe-2-pokoje-41m2...   [41]  \n",
            "4     1800.0  https://www.olx.pl/d/oferta/mieszkanie-dwupoko...   [33]  \n",
            "...      ...                                                ...    ...  \n",
            "1755  2000.0  https://www.olx.pl/d/oferta/2-pok-wola-jana-ka...   [30]  \n",
            "1756  2150.0  https://www.olx.pl/d/oferta/mieszkanie-po-remo...     []  \n",
            "1757  1700.0  https://www.olx.pl/d/oferta/klimatyzowana-kawa...   [26]  \n",
            "1758  1800.0  https://www.olx.pl/d/oferta/mieszkanie-ok-47m2...   [47]  \n",
            "1759  1999.0  https://www.otodom.pl/pl/oferta/mieszkanie-obo...   [50]  \n",
            "\n",
            "[1760 rows x 5 columns]\n"
          ],
          "name": "stdout"
        }
      ]
    },
    {
      "cell_type": "code",
      "metadata": {
        "colab": {
          "base_uri": "https://localhost:8080/",
          "height": 297
        },
        "id": "1kjsFCCLvWQ5",
        "outputId": "ac7681f0-759e-45ee-f30b-7f09ef4689c6"
      },
      "source": [
        "df_dane.describe()\n"
      ],
      "execution_count": 34,
      "outputs": [
        {
          "output_type": "execute_result",
          "data": {
            "text/html": [
              "<div>\n",
              "<style scoped>\n",
              "    .dataframe tbody tr th:only-of-type {\n",
              "        vertical-align: middle;\n",
              "    }\n",
              "\n",
              "    .dataframe tbody tr th {\n",
              "        vertical-align: top;\n",
              "    }\n",
              "\n",
              "    .dataframe thead th {\n",
              "        text-align: right;\n",
              "    }\n",
              "</style>\n",
              "<table border=\"1\" class=\"dataframe\">\n",
              "  <thead>\n",
              "    <tr style=\"text-align: right;\">\n",
              "      <th></th>\n",
              "      <th>price</th>\n",
              "    </tr>\n",
              "  </thead>\n",
              "  <tbody>\n",
              "    <tr>\n",
              "      <th>count</th>\n",
              "      <td>1760.000000</td>\n",
              "    </tr>\n",
              "    <tr>\n",
              "      <th>mean</th>\n",
              "      <td>2236.340909</td>\n",
              "    </tr>\n",
              "    <tr>\n",
              "      <th>std</th>\n",
              "      <td>744.778174</td>\n",
              "    </tr>\n",
              "    <tr>\n",
              "      <th>min</th>\n",
              "      <td>1200.000000</td>\n",
              "    </tr>\n",
              "    <tr>\n",
              "      <th>25%</th>\n",
              "      <td>1700.000000</td>\n",
              "    </tr>\n",
              "    <tr>\n",
              "      <th>50%</th>\n",
              "      <td>1999.500000</td>\n",
              "    </tr>\n",
              "    <tr>\n",
              "      <th>75%</th>\n",
              "      <td>2512.500000</td>\n",
              "    </tr>\n",
              "    <tr>\n",
              "      <th>max</th>\n",
              "      <td>4500.000000</td>\n",
              "    </tr>\n",
              "  </tbody>\n",
              "</table>\n",
              "</div>"
            ],
            "text/plain": [
              "             price\n",
              "count  1760.000000\n",
              "mean   2236.340909\n",
              "std     744.778174\n",
              "min    1200.000000\n",
              "25%    1700.000000\n",
              "50%    1999.500000\n",
              "75%    2512.500000\n",
              "max    4500.000000"
            ]
          },
          "metadata": {
            "tags": []
          },
          "execution_count": 34
        }
      ]
    },
    {
      "cell_type": "code",
      "metadata": {
        "colab": {
          "base_uri": "https://localhost:8080/"
        },
        "id": "tETVAol6XRqj",
        "outputId": "aa2045dd-f255-411d-bce4-8ee938bb8d57"
      },
      "source": [
        "pd.set_option('display.max_colwidth', None)\n",
        "dane_null= df_dane[\"metraz\"] \n",
        "print(type(df_dane.metraz.iloc[1]))"
      ],
      "execution_count": 65,
      "outputs": [
        {
          "output_type": "stream",
          "text": [
            "<class 'list'>\n"
          ],
          "name": "stdout"
        }
      ]
    },
    {
      "cell_type": "code",
      "metadata": {
        "colab": {
          "base_uri": "https://localhost:8080/",
          "height": 400
        },
        "id": "W3ZEXf-zW3v7",
        "outputId": "300e8f95-9a28-47e5-8d5c-58ec9785b987"
      },
      "source": [
        "sns.catplot(x='location', data=df_dane , kind='count', aspect=2.5)"
      ],
      "execution_count": null,
      "outputs": [
        {
          "output_type": "execute_result",
          "data": {
            "text/plain": [
              "<seaborn.axisgrid.FacetGrid at 0x7fa7eba3afd0>"
            ]
          },
          "metadata": {
            "tags": []
          },
          "execution_count": 56
        },
        {
          "output_type": "display_data",
          "data": {
            "image/png": "[encoded data removed]",
            "text/plain": [
              "<Figure size 900x360 with 1 Axes>"
            ]
          },
          "metadata": {
            "tags": [],
            "needs_background": "light"
          }
        }
      ]
    },
    {
      "cell_type": "markdown",
      "metadata": {
        "id": "M4YJTAxkXkm-"
      },
      "source": [
        ""
      ]
    },
    {
      "cell_type": "code",
      "metadata": {
        "colab": {
          "base_uri": "https://localhost:8080/"
        },
        "id": "qdtmi-_8broG",
        "outputId": "734f9074-f90d-4111-974d-3f7ff10bedbc"
      },
      "source": [
        "avg_price = df_dane.groupby('location').mean()\n",
        "print(avg_price)"
      ],
      "execution_count": null,
      "outputs": [
        {
          "output_type": "stream",
          "text": [
            "                       price\n",
            "location                    \n",
            " Bemowo          2050.000000\n",
            " Białołęka       2300.000000\n",
            " Bielany         1783.333333\n",
            " Mokotów         1720.000000\n",
            " Ochota          2366.666667\n",
            " Praga-Południe  2166.666667\n",
            " Praga-Północ    1799.500000\n",
            " Rembertów       1900.000000\n",
            " Targówek        1837.500000\n",
            " Ursus           1875.000000\n",
            " Ursynów         2433.333333\n",
            " Wesoła          1600.000000\n",
            " Wola            2350.000000\n",
            " Śródmieście     2171.428571\n",
            " Żoliborz        3500.000000\n"
          ],
          "name": "stdout"
        }
      ]
    }
  ]
}